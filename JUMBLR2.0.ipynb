{
 "cells": [
  {
   "cell_type": "markdown",
   "metadata": {},
   "source": [
    "The purpose of this algorithm is to take an image and play around with it. Then the new images can be taken and put through the Google Cloud Platform AutoML Beta for image classification "
   ]
  },
  {
   "cell_type": "code",
   "execution_count": 152,
   "metadata": {},
   "outputs": [
    {
     "name": "stdout",
     "output_type": "stream",
     "text": [
      "[[[ 37  64  94]\n",
      "  [ 35  62  92]\n",
      "  [ 34  60  93]\n",
      "  ...\n",
      "  [ 71 108 199]\n",
      "  [ 49  86 175]\n",
      "  [ 48  85 173]]\n",
      "\n",
      " [[ 41  68  98]\n",
      "  [ 39  66  96]\n",
      "  [ 37  63  96]\n",
      "  ...\n",
      "  [ 71 106 198]\n",
      "  [ 48  85 174]\n",
      "  [ 47  84 172]]\n",
      "\n",
      " [[ 45  72 102]\n",
      "  [ 43  70 100]\n",
      "  [ 40  66  99]\n",
      "  ...\n",
      "  [ 70 105 199]\n",
      "  [ 48  83 173]\n",
      "  [ 47  83 171]]\n",
      "\n",
      " ...\n",
      "\n",
      " [[165 169 170]\n",
      "  [167 171 174]\n",
      "  [171 174 179]\n",
      "  ...\n",
      "  [ 97  89  70]\n",
      "  [ 85  77  54]\n",
      "  [ 87  77  52]]\n",
      "\n",
      " [[168 172 173]\n",
      "  [169 173 176]\n",
      "  [172 175 180]\n",
      "  ...\n",
      "  [116 108  89]\n",
      "  [105  97  74]\n",
      "  [108  98  73]]\n",
      "\n",
      " [[173 177 178]\n",
      "  [172 176 179]\n",
      "  [172 175 180]\n",
      "  ...\n",
      "  [125 117  98]\n",
      "  [115 107  84]\n",
      "  [118 108  83]]]\n"
     ]
    }
   ],
   "source": [
    "# Importing of libraries used \n",
    "import matplotlib\n",
    "import sys\n",
    "import random\n",
    "import numpy as np\n",
    "import PIL\n",
    " \n",
    "# Convert Image to array\n",
    "img = PIL.Image.open(r\"G:\\My Drive\\CATSVDOGS2.0\\test1\\1.jpg\")\n",
    "a = numpy.array(img)\n",
    "print(a)\n",
    " \n",
    "# Convert array to Image\n",
    "img = PIL.Image.fromarray(a)\n",
    "img.show()"
   ]
  },
  {
   "cell_type": "code",
   "execution_count": 153,
   "metadata": {
    "scrolled": true
   },
   "outputs": [
    {
     "name": "stdout",
     "output_type": "stream",
     "text": [
      "[[[ 94  64  37]\n",
      "  [ 92  62  35]\n",
      "  [ 93  60  34]\n",
      "  ...\n",
      "  [199 108  71]\n",
      "  [175  86  49]\n",
      "  [173  85  48]]\n",
      "\n",
      " [[ 98  68  41]\n",
      "  [ 96  66  39]\n",
      "  [ 96  63  37]\n",
      "  ...\n",
      "  [198 106  71]\n",
      "  [174  85  48]\n",
      "  [172  84  47]]\n",
      "\n",
      " [[102  72  45]\n",
      "  [100  70  43]\n",
      "  [ 99  66  40]\n",
      "  ...\n",
      "  [199 105  70]\n",
      "  [173  83  48]\n",
      "  [171  83  47]]\n",
      "\n",
      " ...\n",
      "\n",
      " [[170 169 165]\n",
      "  [174 171 167]\n",
      "  [179 174 171]\n",
      "  ...\n",
      "  [ 70  89  97]\n",
      "  [ 54  77  85]\n",
      "  [ 52  77  87]]\n",
      "\n",
      " [[173 172 168]\n",
      "  [176 173 169]\n",
      "  [180 175 172]\n",
      "  ...\n",
      "  [ 89 108 116]\n",
      "  [ 74  97 105]\n",
      "  [ 73  98 108]]\n",
      "\n",
      " [[178 177 173]\n",
      "  [179 176 172]\n",
      "  [180 175 172]\n",
      "  ...\n",
      "  [ 98 117 125]\n",
      "  [ 84 107 115]\n",
      "  [ 83 108 118]]]\n"
     ]
    }
   ],
   "source": [
    "# This will transpose the initial array, then shuffle the columns (now in row form thanks to the transpose).\n",
    "# Then finally it converts it back to its original form with the shuffle performed\n",
    "\n",
    "a=np.transpose(a)\n",
    "np.random.shuffle(a)\n",
    "a=np.transpose(a)\n",
    "print(a)"
   ]
  },
  {
   "cell_type": "code",
   "execution_count": 154,
   "metadata": {},
   "outputs": [],
   "source": [
    "# Transform Matrix \n",
    "b = np.random.randint(1,3,size=(499,381,3))"
   ]
  },
  {
   "cell_type": "code",
   "execution_count": 155,
   "metadata": {},
   "outputs": [
    {
     "name": "stdout",
     "output_type": "stream",
     "text": [
      "[[[1 2 2]\n",
      "  [2 1 1]\n",
      "  [2 2 1]\n",
      "  ...\n",
      "  [1 2 1]\n",
      "  [2 2 2]\n",
      "  [2 2 1]]\n",
      "\n",
      " [[1 1 2]\n",
      "  [1 2 1]\n",
      "  [2 1 2]\n",
      "  ...\n",
      "  [2 1 1]\n",
      "  [2 1 1]\n",
      "  [1 1 2]]\n",
      "\n",
      " [[1 1 2]\n",
      "  [1 1 2]\n",
      "  [1 1 2]\n",
      "  ...\n",
      "  [2 1 1]\n",
      "  [1 1 2]\n",
      "  [2 1 1]]\n",
      "\n",
      " ...\n",
      "\n",
      " [[1 2 2]\n",
      "  [2 1 2]\n",
      "  [2 1 2]\n",
      "  ...\n",
      "  [2 2 1]\n",
      "  [1 2 1]\n",
      "  [1 1 1]]\n",
      "\n",
      " [[1 1 2]\n",
      "  [2 1 2]\n",
      "  [2 1 1]\n",
      "  ...\n",
      "  [1 2 1]\n",
      "  [2 2 2]\n",
      "  [2 1 2]]\n",
      "\n",
      " [[1 2 1]\n",
      "  [1 2 1]\n",
      "  [2 1 2]\n",
      "  ...\n",
      "  [2 2 1]\n",
      "  [1 1 2]\n",
      "  [2 2 2]]]\n",
      "(499, 381, 3)\n"
     ]
    }
   ],
   "source": [
    "# Check to see if it matches with a\n",
    "print(b)\n",
    "print(b.shape)"
   ]
  },
  {
   "cell_type": "code",
   "execution_count": 156,
   "metadata": {},
   "outputs": [],
   "source": [
    "# Output matrix: empty array of same dimensions as a and b\n",
    "c = np.zeros(shape=(499,381,3))"
   ]
  },
  {
   "cell_type": "code",
   "execution_count": 157,
   "metadata": {},
   "outputs": [
    {
     "name": "stdout",
     "output_type": "stream",
     "text": [
      "[[[0. 0. 0.]\n",
      "  [0. 0. 0.]\n",
      "  [0. 0. 0.]\n",
      "  ...\n",
      "  [0. 0. 0.]\n",
      "  [0. 0. 0.]\n",
      "  [0. 0. 0.]]\n",
      "\n",
      " [[0. 0. 0.]\n",
      "  [0. 0. 0.]\n",
      "  [0. 0. 0.]\n",
      "  ...\n",
      "  [0. 0. 0.]\n",
      "  [0. 0. 0.]\n",
      "  [0. 0. 0.]]\n",
      "\n",
      " [[0. 0. 0.]\n",
      "  [0. 0. 0.]\n",
      "  [0. 0. 0.]\n",
      "  ...\n",
      "  [0. 0. 0.]\n",
      "  [0. 0. 0.]\n",
      "  [0. 0. 0.]]\n",
      "\n",
      " ...\n",
      "\n",
      " [[0. 0. 0.]\n",
      "  [0. 0. 0.]\n",
      "  [0. 0. 0.]\n",
      "  ...\n",
      "  [0. 0. 0.]\n",
      "  [0. 0. 0.]\n",
      "  [0. 0. 0.]]\n",
      "\n",
      " [[0. 0. 0.]\n",
      "  [0. 0. 0.]\n",
      "  [0. 0. 0.]\n",
      "  ...\n",
      "  [0. 0. 0.]\n",
      "  [0. 0. 0.]\n",
      "  [0. 0. 0.]]\n",
      "\n",
      " [[0. 0. 0.]\n",
      "  [0. 0. 0.]\n",
      "  [0. 0. 0.]\n",
      "  ...\n",
      "  [0. 0. 0.]\n",
      "  [0. 0. 0.]\n",
      "  [0. 0. 0.]]]\n",
      "(499, 381, 3)\n"
     ]
    }
   ],
   "source": [
    "# Checks if correct\n",
    "print(c)\n",
    "print(c.shape)"
   ]
  },
  {
   "cell_type": "code",
   "execution_count": 158,
   "metadata": {},
   "outputs": [],
   "source": [
    "# Convert array to Image\n",
    "img = PIL.Image.fromarray(a)\n",
    "img.show()"
   ]
  },
  {
   "cell_type": "markdown",
   "metadata": {},
   "source": [
    "So the code ends up being able to shuffle the matrix and spit back out an image. This only shuffles the RGB values however and does not move the pixels around."
   ]
  },
  {
   "cell_type": "markdown",
   "metadata": {},
   "source": [
    "Below I will take my first image in the CATDOG dataset and jumble it. It will then save into a new folder and show the result.. However this will not be consistent across a dataset as it jumbles the image differently every time"
   ]
  },
  {
   "cell_type": "code",
   "execution_count": 159,
   "metadata": {},
   "outputs": [],
   "source": [
    "BLOCKLEN = 30 # Adjust and be careful here. The higher the value the less jumbled the image becomes... and vice-versa!\n",
    "img = PIL.Image.open(r\"G:\\My Drive\\CATSVDOGS2.0\\test1\\1.jpg\")\n",
    "width, height = img.size\n",
    "xblock = width / BLOCKLEN\n",
    "yblock = height / BLOCKLEN\n",
    "blockmap = [(xb*BLOCKLEN, yb*BLOCKLEN, (xb+1)*BLOCKLEN, (yb+1)*BLOCKLEN) \n",
    "            for xb in range(int(xblock)) for yb in range(int(yblock))]\n",
    "shuffle = list(blockmap)\n",
    "random.shuffle(shuffle)\n",
    "result = Image.new(img.mode, (width, height))\n",
    "for box, sbox in zip(blockmap, shuffle):\n",
    "    c = img.crop(sbox)\n",
    "    result.paste(c, box)\n",
    "#result.save(r\"G:\\My Drive\\CATSVDOGS2.0\\test1\\00000000001.jpg\")\n",
    "result.show()"
   ]
  },
  {
   "cell_type": "markdown",
   "metadata": {},
   "source": [
    "Now I need to make all the images in the dataset the exact same size: 1000x1000"
   ]
  },
  {
   "cell_type": "code",
   "execution_count": 172,
   "metadata": {},
   "outputs": [
    {
     "ename": "KeyboardInterrupt",
     "evalue": "",
     "output_type": "error",
     "traceback": [
      "\u001b[1;31m---------------------------------------------------------------------------\u001b[0m",
      "\u001b[1;31mKeyboardInterrupt\u001b[0m                         Traceback (most recent call last)",
      "\u001b[1;32m<ipython-input-172-c80b6258c5b2>\u001b[0m in \u001b[0;36m<module>\u001b[1;34m()\u001b[0m\n\u001b[0;32m     14\u001b[0m             \u001b[0mimResize\u001b[0m\u001b[1;33m.\u001b[0m\u001b[0msave\u001b[0m\u001b[1;33m(\u001b[0m\u001b[0mf\u001b[0m \u001b[1;33m+\u001b[0m \u001b[1;34m' resized.jpg'\u001b[0m\u001b[1;33m,\u001b[0m \u001b[1;34m'JPEG'\u001b[0m\u001b[1;33m,\u001b[0m \u001b[0mquality\u001b[0m\u001b[1;33m=\u001b[0m\u001b[1;36m90\u001b[0m\u001b[1;33m)\u001b[0m\u001b[1;33m\u001b[0m\u001b[0m\n\u001b[0;32m     15\u001b[0m \u001b[1;33m\u001b[0m\u001b[0m\n\u001b[1;32m---> 16\u001b[1;33m \u001b[0mresize\u001b[0m\u001b[1;33m(\u001b[0m\u001b[1;33m)\u001b[0m\u001b[1;33m\u001b[0m\u001b[0m\n\u001b[0m",
      "\u001b[1;32m<ipython-input-172-c80b6258c5b2>\u001b[0m in \u001b[0;36mresize\u001b[1;34m()\u001b[0m\n\u001b[0;32m     12\u001b[0m             \u001b[0mf\u001b[0m\u001b[1;33m,\u001b[0m \u001b[0me\u001b[0m \u001b[1;33m=\u001b[0m \u001b[0mos\u001b[0m\u001b[1;33m.\u001b[0m\u001b[0mpath\u001b[0m\u001b[1;33m.\u001b[0m\u001b[0msplitext\u001b[0m\u001b[1;33m(\u001b[0m\u001b[0mpath\u001b[0m\u001b[1;33m+\u001b[0m\u001b[0mitem\u001b[0m\u001b[1;33m)\u001b[0m\u001b[1;33m\u001b[0m\u001b[0m\n\u001b[0;32m     13\u001b[0m             \u001b[0mimResize\u001b[0m \u001b[1;33m=\u001b[0m \u001b[0mim\u001b[0m\u001b[1;33m.\u001b[0m\u001b[0mresize\u001b[0m\u001b[1;33m(\u001b[0m\u001b[1;33m(\u001b[0m\u001b[1;36m200\u001b[0m\u001b[1;33m,\u001b[0m\u001b[1;36m200\u001b[0m\u001b[1;33m)\u001b[0m\u001b[1;33m,\u001b[0m \u001b[0mImage\u001b[0m\u001b[1;33m.\u001b[0m\u001b[0mANTIALIAS\u001b[0m\u001b[1;33m)\u001b[0m\u001b[1;33m\u001b[0m\u001b[0m\n\u001b[1;32m---> 14\u001b[1;33m             \u001b[0mimResize\u001b[0m\u001b[1;33m.\u001b[0m\u001b[0msave\u001b[0m\u001b[1;33m(\u001b[0m\u001b[0mf\u001b[0m \u001b[1;33m+\u001b[0m \u001b[1;34m' resized.jpg'\u001b[0m\u001b[1;33m,\u001b[0m \u001b[1;34m'JPEG'\u001b[0m\u001b[1;33m,\u001b[0m \u001b[0mquality\u001b[0m\u001b[1;33m=\u001b[0m\u001b[1;36m90\u001b[0m\u001b[1;33m)\u001b[0m\u001b[1;33m\u001b[0m\u001b[0m\n\u001b[0m\u001b[0;32m     15\u001b[0m \u001b[1;33m\u001b[0m\u001b[0m\n\u001b[0;32m     16\u001b[0m \u001b[0mresize\u001b[0m\u001b[1;33m(\u001b[0m\u001b[1;33m)\u001b[0m\u001b[1;33m\u001b[0m\u001b[0m\n",
      "\u001b[1;32m~\\Anaconda3.6\\lib\\site-packages\\PIL\\Image.py\u001b[0m in \u001b[0;36msave\u001b[1;34m(self, fp, format, **params)\u001b[0m\n\u001b[0;32m   1945\u001b[0m                 \u001b[1;31m# Open also for reading (\"+\"), because TIFF save_all\u001b[0m\u001b[1;33m\u001b[0m\u001b[1;33m\u001b[0m\u001b[0m\n\u001b[0;32m   1946\u001b[0m                 \u001b[1;31m# writer needs to go back and edit the written data.\u001b[0m\u001b[1;33m\u001b[0m\u001b[1;33m\u001b[0m\u001b[0m\n\u001b[1;32m-> 1947\u001b[1;33m                 \u001b[0mfp\u001b[0m \u001b[1;33m=\u001b[0m \u001b[0mbuiltins\u001b[0m\u001b[1;33m.\u001b[0m\u001b[0mopen\u001b[0m\u001b[1;33m(\u001b[0m\u001b[0mfilename\u001b[0m\u001b[1;33m,\u001b[0m \u001b[1;34m\"w+b\"\u001b[0m\u001b[1;33m)\u001b[0m\u001b[1;33m\u001b[0m\u001b[0m\n\u001b[0m\u001b[0;32m   1948\u001b[0m \u001b[1;33m\u001b[0m\u001b[0m\n\u001b[0;32m   1949\u001b[0m         \u001b[1;32mtry\u001b[0m\u001b[1;33m:\u001b[0m\u001b[1;33m\u001b[0m\u001b[0m\n",
      "\u001b[1;31mKeyboardInterrupt\u001b[0m: "
     ]
    }
   ],
   "source": [
    "# Training Dataset\n",
    "\n",
    "from PIL import Image\n",
    "import pathlib\n",
    "import os, sys\n",
    "\n",
    "path = (r'G:\\My Drive\\CATSVDOGS2.0\\train\\\\')\n",
    "dirs = os.listdir( path )\n",
    "\n",
    "def resize():\n",
    "    for item in dirs:\n",
    "        if os.path.isfile(path+item):\n",
    "            im = Image.open(path+item)\n",
    "            f, e = os.path.splitext(path+item)\n",
    "            imResize = im.resize((1000,1000), Image.ANTIALIAS)\n",
    "            imResize.save(f + ' resized.jpg', 'JPEG', quality=90)\n",
    "\n",
    "resize()"
   ]
  },
  {
   "cell_type": "code",
   "execution_count": null,
   "metadata": {},
   "outputs": [],
   "source": [
    "# Testing dataset\n",
    "\n",
    "from PIL import Image\n",
    "import pathlib\n",
    "import os, sys\n",
    "\n",
    "path = (r'G:\\My Drive\\CATSVDOGS2.0\\test1\\\\')\n",
    "dirs = os.listdir( path )\n",
    "\n",
    "def resize():\n",
    "    for item in dirs:\n",
    "        if os.path.isfile(path+item):\n",
    "            im = Image.open(path+item)\n",
    "            f, e = os.path.splitext(path+item)\n",
    "            imResize = im.resize((1000,1000), Image.ANTIALIAS)\n",
    "            imResize.save(f + ' resized.jpg', 'JPEG', quality=90)\n",
    "\n",
    "resize()"
   ]
  }
 ],
 "metadata": {
  "kernelspec": {
   "display_name": "Python 3",
   "language": "python",
   "name": "python3"
  },
  "language_info": {
   "codemirror_mode": {
    "name": "ipython",
    "version": 3
   },
   "file_extension": ".py",
   "mimetype": "text/x-python",
   "name": "python",
   "nbconvert_exporter": "python",
   "pygments_lexer": "ipython3",
   "version": "3.6.6"
  }
 },
 "nbformat": 4,
 "nbformat_minor": 2
}
